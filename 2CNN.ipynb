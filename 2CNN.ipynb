{
 "cells": [
  {
   "cell_type": "code",
   "execution_count": 143,
   "metadata": {
    "collapsed": true
   },
   "outputs": [],
   "source": [
    "import torch\n",
    "import torch.nn as nn\n",
    "from torch.autograd import Variable\n",
    "from  torchvision import datasets\n",
    "from  torchvision import transforms\n",
    "from torch.utils.data import Dataset, DataLoader\n",
    "import torch.optim as optim\n",
    "from tqdm import *\n",
    "import pickle\n",
    "import matplotlib.pyplot as plt\n",
    "import numpy as np\n",
    "import pandas as pd"
   ]
  },
  {
   "cell_type": "code",
   "execution_count": 144,
   "metadata": {},
   "outputs": [],
   "source": [
    "train_data = pd.read_csv('./data/train.csv')\n",
    "test_data = pd.read_csv('./data/test.csv')"
   ]
  },
  {
   "cell_type": "code",
   "execution_count": 145,
   "metadata": {
    "collapsed": true
   },
   "outputs": [],
   "source": [
    "train_y = train_data.values[:,0]\n",
    "train_x = train_data.values[:,1:].astype(np.float32)\n",
    "test_x = test_data.values.astype(np.float32)"
   ]
  },
  {
   "cell_type": "code",
   "execution_count": 146,
   "metadata": {
    "collapsed": true
   },
   "outputs": [],
   "source": [
    "train_x = train_x.reshape([-1, 28, 28, 1]).transpose((0,3,1,2))\n",
    "test_x = test_x.reshape([-1, 28, 28, 1]).transpose((0,3,1,2))"
   ]
  },
  {
   "cell_type": "code",
   "execution_count": 147,
   "metadata": {},
   "outputs": [
    {
     "data": {
      "text/plain": [
       "(33.408936, 78.677589)"
      ]
     },
     "execution_count": 147,
     "metadata": {},
     "output_type": "execute_result"
    }
   ],
   "source": [
    "train_x.mean(), train_x.std()"
   ]
  },
  {
   "cell_type": "code",
   "execution_count": 148,
   "metadata": {},
   "outputs": [],
   "source": [
    "train_transform = transforms.Compose([\n",
    "                transforms.ToPILImage(),\n",
    "                transforms.RandomHorizontalFlip(),\n",
    "                transforms.RandomCrop(28),\n",
    "                transforms.ToTensor(),\n",
    "                transforms.Normalize((0.1310,), (0.3085,))\n",
    "            ])\n",
    "\n",
    "test_transform = transforms.Compose([\n",
    "                transforms.ToPILImage(),\n",
    "                transforms.ToTensor(),\n",
    "                transforms.Normalize((0.1310,), (0.3085,))\n",
    "            ])"
   ]
  },
  {
   "cell_type": "code",
   "execution_count": 150,
   "metadata": {},
   "outputs": [
    {
     "data": {
      "image/png": "[encoded data removed]",
      "text/plain": [
       "<matplotlib.figure.Figure at 0x7ff2655935c0>"
      ]
     },
     "metadata": {},
     "output_type": "display_data"
    },
    {
     "data": {
      "text/plain": [
       "5"
      ]
     },
     "execution_count": 150,
     "metadata": {},
     "output_type": "execute_result"
    }
   ],
   "source": [
    "i = 243\n",
    "example_im = train_x[i,0,:,:]\n",
    "a = train_transform(torch.from_numpy(train_x[i]))\n",
    "# plt.imshow(example_im)\n",
    "plt.imshow(a.numpy()[0,:,:])\n",
    "plt.show()\n",
    "train_y[i]"
   ]
  },
  {
   "cell_type": "code",
   "execution_count": 170,
   "metadata": {},
   "outputs": [],
   "source": [
    "class MnistDataset(Dataset):\n",
    "    \n",
    "    def __init__(self, x, y=None, transform=None):\n",
    "        self.data = x\n",
    "        self.labels = y\n",
    "        self.transform = transform\n",
    "        \n",
    "    def __len__(self):\n",
    "        return self.data.shape[0]\n",
    "    \n",
    "    def __getitem__(self, idx):\n",
    "        data = self.data[idx]\n",
    "        if self.transform is not None:\n",
    "            data = torch.from_numpy(train_x[i])\n",
    "            data = self.transform(data).numpy()\n",
    "        if self.labels is not None:\n",
    "            label = self.labels[idx]\n",
    "            return data, label\n",
    "        else:\n",
    "            return data"
   ]
  },
  {
   "cell_type": "code",
   "execution_count": 171,
   "metadata": {},
   "outputs": [],
   "source": [
    "# train_dataset = MnistDataset(train_x, train_y, transform=train_transform)\n",
    "train_dataset = MnistDataset(train_x, train_y)\n",
    "test_dataset = MnistDataset(test_x)\n",
    "\n",
    "trainloader = DataLoader(train_dataset, batch_size=1000, shuffle=True)\n",
    "testloader = DataLoader(test_dataset, batch_size=1000, shuffle=False)"
   ]
  },
  {
   "cell_type": "code",
   "execution_count": 158,
   "metadata": {
    "collapsed": true
   },
   "outputs": [],
   "source": [
    "class Net(nn.Module):  \n",
    "    def __init__(self):\n",
    "        super(Net, self).__init__()\n",
    "        \n",
    "        self.feature_map_size = 7 * 7 * 100\n",
    "        \n",
    "        self.c1_layer = nn.Sequential( \\\n",
    "                                        nn.BatchNorm2d(1),\n",
    "                                        nn.Conv2d(1,32,3,padding=1),\n",
    "                                        nn.ReLU(),\n",
    "                                        nn.Conv2d(32,32,3,padding=1),\n",
    "                                        nn.MaxPool2d(2,stride=2),\n",
    "                                        nn.ReLU(),\n",
    "                                        nn.Dropout2d(0.25)\n",
    "                                       )\n",
    "        self.c2_layer = nn.Sequential( \\\n",
    "                                        nn.Conv2d(32,100,3,padding=1),\n",
    "                                        nn.ReLU(),\n",
    "                                        nn.Conv2d(100,100,3,padding=1),\n",
    "                                        nn.ReLU(),\n",
    "                                        nn.Conv2d(100,100,3,padding=1),\n",
    "                                        nn.MaxPool2d(2,stride=2),\n",
    "                                        nn.ReLU(),\n",
    "                                        nn.Dropout2d(0.25)\n",
    "                                       )\n",
    "        self.fc_layer = nn.Sequential( \\\n",
    "                                        nn.Linear(self.feature_map_size, 1024),\n",
    "                                        nn.ReLU(),\n",
    "                                        nn.Dropout2d(),\n",
    "                                        nn.Linear(1024,10)\n",
    "                                        )\n",
    "\n",
    "    def forward(self, x): \n",
    "        x = self.c1_layer(x)\n",
    "        x = self.c2_layer(x)\n",
    "        x = x.view(-1, self.feature_map_size) \n",
    "        x = self.fc_layer(x)\n",
    "        return x"
   ]
  },
  {
   "cell_type": "code",
   "execution_count": 159,
   "metadata": {
    "collapsed": true
   },
   "outputs": [],
   "source": [
    "'''Combination of augmented data and raw data'''\n",
    "def run(s_epoch,n_epoch,lr):\n",
    "    net.train(True)\n",
    "    optimizer = optim.Adam(net.parameters(), lr=lr)\n",
    "#     for epoch in tqdm(range(s_epoch,n_epoch)):  \n",
    "    for epoch in range(s_epoch,n_epoch):\n",
    "        running_corrects= 0\n",
    "        running_loss = 0.0\n",
    "        for i, data in enumerate(trainloader, 0):\n",
    "            inputs, labels = data\n",
    "            inputs, labels = Variable(inputs.cuda()), Variable(labels.cuda())\n",
    "            optimizer.zero_grad()\n",
    "            outputs = net(inputs)\n",
    "            loss = criterion(outputs, labels)\n",
    "            loss.backward()\n",
    "            optimizer.step()\n",
    "\n",
    "            running_loss += loss.data[0]\n",
    "\n",
    "            _, preds = torch.max(outputs.data, 1)\n",
    "            running_corrects += torch.sum(preds == labels.data)\n",
    "            \n",
    "        loss_data.append(running_loss)\n",
    "        corrects.append(running_corrects/len(trainloader.dataset))\n",
    "        print (\"Epoch %s, train accuracy %s and loss %s\" %(epoch+1,running_corrects/len(trainloader.dataset),running_loss))\n",
    "    print ('Finished Training')"
   ]
  },
  {
   "cell_type": "code",
   "execution_count": 160,
   "metadata": {
    "collapsed": true
   },
   "outputs": [],
   "source": [
    "net = Net().cuda()\n",
    "criterion = nn.CrossEntropyLoss()\n",
    "\n",
    "loss_data = []\n",
    "corrects = []"
   ]
  },
  {
   "cell_type": "code",
   "execution_count": 161,
   "metadata": {},
   "outputs": [
    {
     "name": "stdout",
     "output_type": "stream",
     "text": [
      "Epoch 1, train accuracy 0.7436428571428572 and loss 34.507548063993454\n",
      "Epoch 2, train accuracy 0.9620952380952381 and loss 5.2822673842310905\n",
      "Epoch 3, train accuracy 0.9768095238095238 and loss 3.1918629221618176\n",
      "Epoch 4, train accuracy 0.982 and loss 2.50706547498703\n",
      "Epoch 5, train accuracy 0.9857619047619047 and loss 2.004696710035205\n",
      "Epoch 6, train accuracy 0.9872142857142857 and loss 1.7294164281338453\n",
      "Epoch 7, train accuracy 0.9890238095238095 and loss 1.4580287169665098\n",
      "Epoch 8, train accuracy 0.9908333333333333 and loss 1.2230781521648169\n",
      "Epoch 9, train accuracy 0.9917380952380952 and loss 1.0617412962019444\n",
      "Epoch 10, train accuracy 0.9921666666666666 and loss 1.040636290796101\n",
      "Epoch 11, train accuracy 0.9928809523809524 and loss 0.9363645501434803\n",
      "Epoch 12, train accuracy 0.9938333333333333 and loss 0.7871370352804661\n",
      "Epoch 13, train accuracy 0.9941666666666666 and loss 0.7370520024560392\n",
      "Epoch 14, train accuracy 0.9942619047619048 and loss 0.7499310784041882\n",
      "Epoch 15, train accuracy 0.9955952380952381 and loss 0.5653703883290291\n",
      "Finished Training\n"
     ]
    }
   ],
   "source": [
    "run(0,15,lr=0.001)"
   ]
  },
  {
   "cell_type": "code",
   "execution_count": 219,
   "metadata": {
    "scrolled": true
   },
   "outputs": [
    {
     "name": "stdout",
     "output_type": "stream",
     "text": [
      "Epoch 11, train accuracy 0.998547619047619 and loss 0.18008344544796273\n",
      "Epoch 12, train accuracy 0.9982380952380953 and loss 0.22702160957851447\n",
      "Epoch 13, train accuracy 0.9986904761904762 and loss 0.16430460143601522\n",
      "Epoch 14, train accuracy 0.9987857142857143 and loss 0.16577508841874078\n",
      "Epoch 15, train accuracy 0.9986666666666667 and loss 0.16255929434555583\n",
      "Epoch 16, train accuracy 0.998452380952381 and loss 0.213623212010134\n",
      "Epoch 17, train accuracy 0.9988333333333334 and loss 0.14032137863978278\n",
      "Epoch 18, train accuracy 0.9992857142857143 and loss 0.11098923748068046\n",
      "Epoch 19, train accuracy 0.9988571428571429 and loss 0.14796689788636286\n",
      "Epoch 20, train accuracy 0.9989761904761905 and loss 0.10610626294510439\n",
      "Epoch 21, train accuracy 0.9988333333333334 and loss 0.13319063368544448\n",
      "Epoch 22, train accuracy 0.9987619047619047 and loss 0.15391668630763888\n",
      "Epoch 23, train accuracy 0.9988095238095238 and loss 0.1341251409612596\n",
      "Epoch 24, train accuracy 0.9990714285714286 and loss 0.1223608538712142\n",
      "Epoch 25, train accuracy 0.9990476190476191 and loss 0.10976586536708055\n",
      "Epoch 26, train accuracy 0.9986190476190476 and loss 0.19709680168307386\n",
      "Epoch 27, train accuracy 0.9989047619047619 and loss 0.14141423482215032\n",
      "Epoch 28, train accuracy 0.9995238095238095 and loss 0.049575642922718544\n"
     ]
    },
    {
     "ename": "KeyboardInterrupt",
     "evalue": "",
     "output_type": "error",
     "traceback": [
      "\u001b[0;31m---------------------------------------------------------------------------\u001b[0m",
      "\u001b[0;31mKeyboardInterrupt\u001b[0m                         Traceback (most recent call last)",
      "\u001b[0;32m<ipython-input-219-6d95d1dd5522>\u001b[0m in \u001b[0;36m<module>\u001b[0;34m()\u001b[0m\n\u001b[0;32m----> 1\u001b[0;31m \u001b[0mrun\u001b[0m\u001b[0;34m(\u001b[0m\u001b[0;36m10\u001b[0m\u001b[0;34m,\u001b[0m\u001b[0;36m80\u001b[0m\u001b[0;34m,\u001b[0m\u001b[0;36m0.001\u001b[0m\u001b[0;34m)\u001b[0m\u001b[0;34m\u001b[0m\u001b[0m\n\u001b[0m",
      "\u001b[0;32m<ipython-input-159-c12e876558d6>\u001b[0m in \u001b[0;36mrun\u001b[0;34m(s_epoch, n_epoch, lr)\u001b[0m\n\u001b[1;32m      7\u001b[0m         \u001b[0mrunning_corrects\u001b[0m\u001b[0;34m=\u001b[0m \u001b[0;36m0\u001b[0m\u001b[0;34m\u001b[0m\u001b[0m\n\u001b[1;32m      8\u001b[0m         \u001b[0mrunning_loss\u001b[0m \u001b[0;34m=\u001b[0m \u001b[0;36m0.0\u001b[0m\u001b[0;34m\u001b[0m\u001b[0m\n\u001b[0;32m----> 9\u001b[0;31m         \u001b[0;32mfor\u001b[0m \u001b[0mi\u001b[0m\u001b[0;34m,\u001b[0m \u001b[0mdata\u001b[0m \u001b[0;32min\u001b[0m \u001b[0menumerate\u001b[0m\u001b[0;34m(\u001b[0m\u001b[0mtrainloader\u001b[0m\u001b[0;34m,\u001b[0m \u001b[0;36m0\u001b[0m\u001b[0;34m)\u001b[0m\u001b[0;34m:\u001b[0m\u001b[0;34m\u001b[0m\u001b[0m\n\u001b[0m\u001b[1;32m     10\u001b[0m             \u001b[0minputs\u001b[0m\u001b[0;34m,\u001b[0m \u001b[0mlabels\u001b[0m \u001b[0;34m=\u001b[0m \u001b[0mdata\u001b[0m\u001b[0;34m\u001b[0m\u001b[0m\n\u001b[1;32m     11\u001b[0m             \u001b[0minputs\u001b[0m\u001b[0;34m,\u001b[0m \u001b[0mlabels\u001b[0m \u001b[0;34m=\u001b[0m \u001b[0mVariable\u001b[0m\u001b[0;34m(\u001b[0m\u001b[0minputs\u001b[0m\u001b[0;34m.\u001b[0m\u001b[0mcuda\u001b[0m\u001b[0;34m(\u001b[0m\u001b[0;34m)\u001b[0m\u001b[0;34m)\u001b[0m\u001b[0;34m,\u001b[0m \u001b[0mVariable\u001b[0m\u001b[0;34m(\u001b[0m\u001b[0mlabels\u001b[0m\u001b[0;34m.\u001b[0m\u001b[0mcuda\u001b[0m\u001b[0;34m(\u001b[0m\u001b[0;34m)\u001b[0m\u001b[0;34m)\u001b[0m\u001b[0;34m\u001b[0m\u001b[0m\n",
      "\u001b[0;32m~/anaconda3/lib/python3.6/site-packages/torch/utils/data/dataloader.py\u001b[0m in \u001b[0;36m__next__\u001b[0;34m(self)\u001b[0m\n\u001b[1;32m    177\u001b[0m         \u001b[0;32mif\u001b[0m \u001b[0mself\u001b[0m\u001b[0;34m.\u001b[0m\u001b[0mnum_workers\u001b[0m \u001b[0;34m==\u001b[0m \u001b[0;36m0\u001b[0m\u001b[0;34m:\u001b[0m  \u001b[0;31m# same-process loading\u001b[0m\u001b[0;34m\u001b[0m\u001b[0m\n\u001b[1;32m    178\u001b[0m             \u001b[0mindices\u001b[0m \u001b[0;34m=\u001b[0m \u001b[0mnext\u001b[0m\u001b[0;34m(\u001b[0m\u001b[0mself\u001b[0m\u001b[0;34m.\u001b[0m\u001b[0msample_iter\u001b[0m\u001b[0;34m)\u001b[0m  \u001b[0;31m# may raise StopIteration\u001b[0m\u001b[0;34m\u001b[0m\u001b[0m\n\u001b[0;32m--> 179\u001b[0;31m             \u001b[0mbatch\u001b[0m \u001b[0;34m=\u001b[0m \u001b[0mself\u001b[0m\u001b[0;34m.\u001b[0m\u001b[0mcollate_fn\u001b[0m\u001b[0;34m(\u001b[0m\u001b[0;34m[\u001b[0m\u001b[0mself\u001b[0m\u001b[0;34m.\u001b[0m\u001b[0mdataset\u001b[0m\u001b[0;34m[\u001b[0m\u001b[0mi\u001b[0m\u001b[0;34m]\u001b[0m \u001b[0;32mfor\u001b[0m \u001b[0mi\u001b[0m \u001b[0;32min\u001b[0m \u001b[0mindices\u001b[0m\u001b[0;34m]\u001b[0m\u001b[0;34m)\u001b[0m\u001b[0;34m\u001b[0m\u001b[0m\n\u001b[0m\u001b[1;32m    180\u001b[0m             \u001b[0;32mif\u001b[0m \u001b[0mself\u001b[0m\u001b[0;34m.\u001b[0m\u001b[0mpin_memory\u001b[0m\u001b[0;34m:\u001b[0m\u001b[0;34m\u001b[0m\u001b[0m\n\u001b[1;32m    181\u001b[0m                 \u001b[0mbatch\u001b[0m \u001b[0;34m=\u001b[0m \u001b[0mpin_memory_batch\u001b[0m\u001b[0;34m(\u001b[0m\u001b[0mbatch\u001b[0m\u001b[0;34m)\u001b[0m\u001b[0;34m\u001b[0m\u001b[0m\n",
      "\u001b[0;32m~/anaconda3/lib/python3.6/site-packages/torch/utils/data/dataloader.py\u001b[0m in \u001b[0;36mdefault_collate\u001b[0;34m(batch)\u001b[0m\n\u001b[1;32m    107\u001b[0m     \u001b[0;32melif\u001b[0m \u001b[0misinstance\u001b[0m\u001b[0;34m(\u001b[0m\u001b[0mbatch\u001b[0m\u001b[0;34m[\u001b[0m\u001b[0;36m0\u001b[0m\u001b[0;34m]\u001b[0m\u001b[0;34m,\u001b[0m \u001b[0mcollections\u001b[0m\u001b[0;34m.\u001b[0m\u001b[0mSequence\u001b[0m\u001b[0;34m)\u001b[0m\u001b[0;34m:\u001b[0m\u001b[0;34m\u001b[0m\u001b[0m\n\u001b[1;32m    108\u001b[0m         \u001b[0mtransposed\u001b[0m \u001b[0;34m=\u001b[0m \u001b[0mzip\u001b[0m\u001b[0;34m(\u001b[0m\u001b[0;34m*\u001b[0m\u001b[0mbatch\u001b[0m\u001b[0;34m)\u001b[0m\u001b[0;34m\u001b[0m\u001b[0m\n\u001b[0;32m--> 109\u001b[0;31m         \u001b[0;32mreturn\u001b[0m \u001b[0;34m[\u001b[0m\u001b[0mdefault_collate\u001b[0m\u001b[0;34m(\u001b[0m\u001b[0msamples\u001b[0m\u001b[0;34m)\u001b[0m \u001b[0;32mfor\u001b[0m \u001b[0msamples\u001b[0m \u001b[0;32min\u001b[0m \u001b[0mtransposed\u001b[0m\u001b[0;34m]\u001b[0m\u001b[0;34m\u001b[0m\u001b[0m\n\u001b[0m\u001b[1;32m    110\u001b[0m \u001b[0;34m\u001b[0m\u001b[0m\n\u001b[1;32m    111\u001b[0m     raise TypeError((\"batch must contain tensors, numbers, dicts or lists; found {}\"\n",
      "\u001b[0;32m~/anaconda3/lib/python3.6/site-packages/torch/utils/data/dataloader.py\u001b[0m in \u001b[0;36m<listcomp>\u001b[0;34m(.0)\u001b[0m\n\u001b[1;32m    107\u001b[0m     \u001b[0;32melif\u001b[0m \u001b[0misinstance\u001b[0m\u001b[0;34m(\u001b[0m\u001b[0mbatch\u001b[0m\u001b[0;34m[\u001b[0m\u001b[0;36m0\u001b[0m\u001b[0;34m]\u001b[0m\u001b[0;34m,\u001b[0m \u001b[0mcollections\u001b[0m\u001b[0;34m.\u001b[0m\u001b[0mSequence\u001b[0m\u001b[0;34m)\u001b[0m\u001b[0;34m:\u001b[0m\u001b[0;34m\u001b[0m\u001b[0m\n\u001b[1;32m    108\u001b[0m         \u001b[0mtransposed\u001b[0m \u001b[0;34m=\u001b[0m \u001b[0mzip\u001b[0m\u001b[0;34m(\u001b[0m\u001b[0;34m*\u001b[0m\u001b[0mbatch\u001b[0m\u001b[0;34m)\u001b[0m\u001b[0;34m\u001b[0m\u001b[0m\n\u001b[0;32m--> 109\u001b[0;31m         \u001b[0;32mreturn\u001b[0m \u001b[0;34m[\u001b[0m\u001b[0mdefault_collate\u001b[0m\u001b[0;34m(\u001b[0m\u001b[0msamples\u001b[0m\u001b[0;34m)\u001b[0m \u001b[0;32mfor\u001b[0m \u001b[0msamples\u001b[0m \u001b[0;32min\u001b[0m \u001b[0mtransposed\u001b[0m\u001b[0;34m]\u001b[0m\u001b[0;34m\u001b[0m\u001b[0m\n\u001b[0m\u001b[1;32m    110\u001b[0m \u001b[0;34m\u001b[0m\u001b[0m\n\u001b[1;32m    111\u001b[0m     raise TypeError((\"batch must contain tensors, numbers, dicts or lists; found {}\"\n",
      "\u001b[0;32m~/anaconda3/lib/python3.6/site-packages/torch/utils/data/dataloader.py\u001b[0m in \u001b[0;36mdefault_collate\u001b[0;34m(batch)\u001b[0m\n\u001b[1;32m     93\u001b[0m         \u001b[0melem\u001b[0m \u001b[0;34m=\u001b[0m \u001b[0mbatch\u001b[0m\u001b[0;34m[\u001b[0m\u001b[0;36m0\u001b[0m\u001b[0;34m]\u001b[0m\u001b[0;34m\u001b[0m\u001b[0m\n\u001b[1;32m     94\u001b[0m         \u001b[0;32mif\u001b[0m \u001b[0mtype\u001b[0m\u001b[0;34m(\u001b[0m\u001b[0melem\u001b[0m\u001b[0;34m)\u001b[0m\u001b[0;34m.\u001b[0m\u001b[0m__name__\u001b[0m \u001b[0;34m==\u001b[0m \u001b[0;34m'ndarray'\u001b[0m\u001b[0;34m:\u001b[0m\u001b[0;34m\u001b[0m\u001b[0m\n\u001b[0;32m---> 95\u001b[0;31m             \u001b[0;32mreturn\u001b[0m \u001b[0mtorch\u001b[0m\u001b[0;34m.\u001b[0m\u001b[0mstack\u001b[0m\u001b[0;34m(\u001b[0m\u001b[0;34m[\u001b[0m\u001b[0mtorch\u001b[0m\u001b[0;34m.\u001b[0m\u001b[0mfrom_numpy\u001b[0m\u001b[0;34m(\u001b[0m\u001b[0mb\u001b[0m\u001b[0;34m)\u001b[0m \u001b[0;32mfor\u001b[0m \u001b[0mb\u001b[0m \u001b[0;32min\u001b[0m \u001b[0mbatch\u001b[0m\u001b[0;34m]\u001b[0m\u001b[0;34m,\u001b[0m \u001b[0;36m0\u001b[0m\u001b[0;34m)\u001b[0m\u001b[0;34m\u001b[0m\u001b[0m\n\u001b[0m\u001b[1;32m     96\u001b[0m         \u001b[0;32mif\u001b[0m \u001b[0melem\u001b[0m\u001b[0;34m.\u001b[0m\u001b[0mshape\u001b[0m \u001b[0;34m==\u001b[0m \u001b[0;34m(\u001b[0m\u001b[0;34m)\u001b[0m\u001b[0;34m:\u001b[0m  \u001b[0;31m# scalars\u001b[0m\u001b[0;34m\u001b[0m\u001b[0m\n\u001b[1;32m     97\u001b[0m             \u001b[0mpy_type\u001b[0m \u001b[0;34m=\u001b[0m \u001b[0mfloat\u001b[0m \u001b[0;32mif\u001b[0m \u001b[0melem\u001b[0m\u001b[0;34m.\u001b[0m\u001b[0mdtype\u001b[0m\u001b[0;34m.\u001b[0m\u001b[0mname\u001b[0m\u001b[0;34m.\u001b[0m\u001b[0mstartswith\u001b[0m\u001b[0;34m(\u001b[0m\u001b[0;34m'float'\u001b[0m\u001b[0;34m)\u001b[0m \u001b[0;32melse\u001b[0m \u001b[0mint\u001b[0m\u001b[0;34m\u001b[0m\u001b[0m\n",
      "\u001b[0;32m~/anaconda3/lib/python3.6/site-packages/torch/functional.py\u001b[0m in \u001b[0;36mstack\u001b[0;34m(sequence, dim, out)\u001b[0m\n\u001b[1;32m     62\u001b[0m     \u001b[0minputs\u001b[0m \u001b[0;34m=\u001b[0m \u001b[0;34m[\u001b[0m\u001b[0mt\u001b[0m\u001b[0;34m.\u001b[0m\u001b[0munsqueeze\u001b[0m\u001b[0;34m(\u001b[0m\u001b[0mdim\u001b[0m\u001b[0;34m)\u001b[0m \u001b[0;32mfor\u001b[0m \u001b[0mt\u001b[0m \u001b[0;32min\u001b[0m \u001b[0msequence\u001b[0m\u001b[0;34m]\u001b[0m\u001b[0;34m\u001b[0m\u001b[0m\n\u001b[1;32m     63\u001b[0m     \u001b[0;32mif\u001b[0m \u001b[0mout\u001b[0m \u001b[0;32mis\u001b[0m \u001b[0;32mNone\u001b[0m\u001b[0;34m:\u001b[0m\u001b[0;34m\u001b[0m\u001b[0m\n\u001b[0;32m---> 64\u001b[0;31m         \u001b[0;32mreturn\u001b[0m \u001b[0mtorch\u001b[0m\u001b[0;34m.\u001b[0m\u001b[0mcat\u001b[0m\u001b[0;34m(\u001b[0m\u001b[0minputs\u001b[0m\u001b[0;34m,\u001b[0m \u001b[0mdim\u001b[0m\u001b[0;34m)\u001b[0m\u001b[0;34m\u001b[0m\u001b[0m\n\u001b[0m\u001b[1;32m     65\u001b[0m     \u001b[0;32melse\u001b[0m\u001b[0;34m:\u001b[0m\u001b[0;34m\u001b[0m\u001b[0m\n\u001b[1;32m     66\u001b[0m         \u001b[0;32mreturn\u001b[0m \u001b[0mtorch\u001b[0m\u001b[0;34m.\u001b[0m\u001b[0mcat\u001b[0m\u001b[0;34m(\u001b[0m\u001b[0minputs\u001b[0m\u001b[0;34m,\u001b[0m \u001b[0mdim\u001b[0m\u001b[0;34m,\u001b[0m \u001b[0mout\u001b[0m\u001b[0;34m=\u001b[0m\u001b[0mout\u001b[0m\u001b[0;34m)\u001b[0m\u001b[0;34m\u001b[0m\u001b[0m\n",
      "\u001b[0;31mKeyboardInterrupt\u001b[0m: "
     ]
    }
   ],
   "source": [
    "run(10,80,0.001)"
   ]
  },
  {
   "cell_type": "code",
   "execution_count": 227,
   "metadata": {},
   "outputs": [
    {
     "name": "stdout",
     "output_type": "stream",
     "text": [
      "Epoch 81, train accuracy 0.9997380952380952 and loss 0.04056798437250109\n",
      "Epoch 82, train accuracy 0.9997380952380952 and loss 0.028939115566799956\n",
      "Epoch 83, train accuracy 0.9997857142857143 and loss 0.02462838257815747\n",
      "Epoch 84, train accuracy 0.9997619047619047 and loss 0.021310488094286484\n",
      "Epoch 85, train accuracy 0.9998571428571429 and loss 0.02454680181574531\n",
      "Epoch 86, train accuracy 0.9999523809523809 and loss 0.015684653994185282\n",
      "Epoch 87, train accuracy 0.9999285714285714 and loss 0.009907741105507739\n",
      "Epoch 88, train accuracy 0.9999285714285714 and loss 0.010297128109129972\n",
      "Epoch 89, train accuracy 0.9998571428571429 and loss 0.015708399238747006\n",
      "Epoch 90, train accuracy 0.9998809523809524 and loss 0.023211353299302573\n",
      "Epoch 91, train accuracy 0.9998333333333334 and loss 0.026211675070385354\n",
      "Epoch 92, train accuracy 0.9999047619047619 and loss 0.01695570860869111\n",
      "Epoch 93, train accuracy 0.9999761904761905 and loss 0.006410903198684537\n",
      "Epoch 94, train accuracy 0.9998095238095238 and loss 0.01538542026878531\n",
      "Epoch 95, train accuracy 0.9998571428571429 and loss 0.011086422202993163\n",
      "Epoch 96, train accuracy 0.9998809523809524 and loss 0.014132074584836118\n",
      "Epoch 97, train accuracy 0.9999285714285714 and loss 0.007825823387918263\n",
      "Epoch 98, train accuracy 0.9998571428571429 and loss 0.019140735356245386\n",
      "Epoch 99, train accuracy 0.9999285714285714 and loss 0.009245351464500118\n",
      "Epoch 100, train accuracy 0.9999523809523809 and loss 0.00921619254881989\n",
      "Epoch 101, train accuracy 0.9998571428571429 and loss 0.019863178727064223\n",
      "Epoch 102, train accuracy 0.9999523809523809 and loss 0.005265462823217604\n",
      "Epoch 103, train accuracy 0.9999761904761905 and loss 0.0038303440317122295\n",
      "Epoch 104, train accuracy 0.9998809523809524 and loss 0.016859137042956718\n",
      "Epoch 105, train accuracy 0.9999285714285714 and loss 0.0059408949177850445\n",
      "Epoch 106, train accuracy 0.9999523809523809 and loss 0.007041339769102706\n",
      "Epoch 107, train accuracy 0.9999285714285714 and loss 0.006781046382911882\n",
      "Epoch 108, train accuracy 0.9997857142857143 and loss 0.014121678941705795\n",
      "Epoch 109, train accuracy 0.9999047619047619 and loss 0.01739075560976744\n",
      "Epoch 110, train accuracy 0.9999523809523809 and loss 0.008174259142379015\n",
      "Epoch 111, train accuracy 0.9999047619047619 and loss 0.007360731593450964\n",
      "Epoch 112, train accuracy 0.9999523809523809 and loss 0.004836849540964749\n"
     ]
    },
    {
     "ename": "KeyboardInterrupt",
     "evalue": "",
     "output_type": "error",
     "traceback": [
      "\u001b[0;31m---------------------------------------------------------------------------\u001b[0m",
      "\u001b[0;31mKeyboardInterrupt\u001b[0m                         Traceback (most recent call last)",
      "\u001b[0;32m<timed eval>\u001b[0m in \u001b[0;36m<module>\u001b[0;34m()\u001b[0m\n",
      "\u001b[0;32m<ipython-input-159-c12e876558d6>\u001b[0m in \u001b[0;36mrun\u001b[0;34m(s_epoch, n_epoch, lr)\u001b[0m\n\u001b[1;32m     16\u001b[0m             \u001b[0moptimizer\u001b[0m\u001b[0;34m.\u001b[0m\u001b[0mstep\u001b[0m\u001b[0;34m(\u001b[0m\u001b[0;34m)\u001b[0m\u001b[0;34m\u001b[0m\u001b[0m\n\u001b[1;32m     17\u001b[0m \u001b[0;34m\u001b[0m\u001b[0m\n\u001b[0;32m---> 18\u001b[0;31m             \u001b[0mrunning_loss\u001b[0m \u001b[0;34m+=\u001b[0m \u001b[0mloss\u001b[0m\u001b[0;34m.\u001b[0m\u001b[0mdata\u001b[0m\u001b[0;34m[\u001b[0m\u001b[0;36m0\u001b[0m\u001b[0;34m]\u001b[0m\u001b[0;34m\u001b[0m\u001b[0m\n\u001b[0m\u001b[1;32m     19\u001b[0m \u001b[0;34m\u001b[0m\u001b[0m\n\u001b[1;32m     20\u001b[0m             \u001b[0m_\u001b[0m\u001b[0;34m,\u001b[0m \u001b[0mpreds\u001b[0m \u001b[0;34m=\u001b[0m \u001b[0mtorch\u001b[0m\u001b[0;34m.\u001b[0m\u001b[0mmax\u001b[0m\u001b[0;34m(\u001b[0m\u001b[0moutputs\u001b[0m\u001b[0;34m.\u001b[0m\u001b[0mdata\u001b[0m\u001b[0;34m,\u001b[0m \u001b[0;36m1\u001b[0m\u001b[0;34m)\u001b[0m\u001b[0;34m\u001b[0m\u001b[0m\n",
      "\u001b[0;31mKeyboardInterrupt\u001b[0m: "
     ]
    }
   ],
   "source": [
    "%%time\n",
    "run(80,120,0.0001)"
   ]
  },
  {
   "cell_type": "code",
   "execution_count": null,
   "metadata": {},
   "outputs": [
    {
     "name": "stdout",
     "output_type": "stream",
     "text": [
      "Epoch 121, train accuracy 0.9998571428571429 and loss 0.017207473938036344\n",
      "Epoch 122, train accuracy 0.9997380952380952 and loss 0.036010257437283144\n",
      "Epoch 123, train accuracy 0.9996904761904762 and loss 0.040958231869808515\n",
      "Epoch 124, train accuracy 0.9996428571428572 and loss 0.03386087954311279\n",
      "Epoch 125, train accuracy 0.9996904761904762 and loss 0.036144045180549256\n"
     ]
    }
   ],
   "source": [
    "%%time\n",
    "run(120,160,0.0005)"
   ]
  },
  {
   "cell_type": "code",
   "execution_count": 205,
   "metadata": {},
   "outputs": [
    {
     "data": {
      "image/png": "[encoded data removed]",
      "text/plain": [
       "<matplotlib.figure.Figure at 0x7ff26558a908>"
      ]
     },
     "metadata": {},
     "output_type": "display_data"
    }
   ],
   "source": [
    "plt.plot(loss_data[-30:])\n",
    "plt.grid()\n",
    "plt.show()"
   ]
  },
  {
   "cell_type": "code",
   "execution_count": 229,
   "metadata": {
    "collapsed": true
   },
   "outputs": [],
   "source": [
    "y_hat = []"
   ]
  },
  {
   "cell_type": "code",
   "execution_count": 230,
   "metadata": {},
   "outputs": [],
   "source": [
    "net.train(False)\n",
    "running_corrects=0\n",
    "running_loss=0\n",
    "for i, data in enumerate(testloader, 0):\n",
    "    inputs= data\n",
    "    inputs= Variable(inputs.cuda(), volatile=True)\n",
    "    outputs = net(inputs)\n",
    "    y_hat.append(outputs.cpu().data.numpy())"
   ]
  },
  {
   "cell_type": "code",
   "execution_count": 231,
   "metadata": {},
   "outputs": [
    {
     "name": "stdout",
     "output_type": "stream",
     "text": [
      "(28000, 1, 28, 28) (28, 1000, 10)\n"
     ]
    }
   ],
   "source": [
    "print(testloader.dataset.data.shape, np.array(y_hat).shape)\n",
    "real = []\n",
    "expect = []"
   ]
  },
  {
   "cell_type": "code",
   "execution_count": 232,
   "metadata": {},
   "outputs": [],
   "source": [
    "import pandas as pd\n",
    "c = 0\n",
    "df = pd.DataFrame(columns=['ImageId', 'Label'])\n",
    "for i in range(len(y_hat)):\n",
    "    l = len(y_hat[0])\n",
    "    for j in range(l):\n",
    "        real.append(np.argmax(y_hat[i][j]))\n",
    "        expect.append(j + i*l)"
   ]
  },
  {
   "cell_type": "code",
   "execution_count": 233,
   "metadata": {},
   "outputs": [
    {
     "data": {
      "text/plain": [
       "(28000, 2)"
      ]
     },
     "execution_count": 233,
     "metadata": {},
     "output_type": "execute_result"
    }
   ],
   "source": [
    "df = pd.DataFrame(columns=['ImageId', 'Label'])\n",
    "df['ImageId'] = np.array(expect) + 1\n",
    "df['Label'] = real\n",
    "df.shape"
   ]
  },
  {
   "cell_type": "code",
   "execution_count": 234,
   "metadata": {},
   "outputs": [
    {
     "name": "stdout",
     "output_type": "stream",
     "text": [
      "2CNN.ipynb\n",
      "2cnn.pkl\n",
      "data\n"
     ]
    }
   ],
   "source": [
    "%%bash\n",
    "rm ground1.csv\n",
    "ls\n"
   ]
  },
  {
   "cell_type": "code",
   "execution_count": 235,
   "metadata": {},
   "outputs": [],
   "source": [
    "df.to_csv('./ground1.csv', index=False)"
   ]
  },
  {
   "cell_type": "code",
   "execution_count": null,
   "metadata": {
    "collapsed": true
   },
   "outputs": [],
   "source": [
    "net_parametrs = net.state_dict()\n",
    "with open('./2cnn.pkl','wb') as f:\n",
    "    pickle.dump(net_parametrs,f)"
   ]
  },
  {
   "cell_type": "code",
   "execution_count": null,
   "metadata": {
    "collapsed": true
   },
   "outputs": [],
   "source": [
    "with open('./2cnn.pkl','rb') as f:\n",
    "    result_nets = pickle.load(f)\n",
    "net.load_state_dict(result_nets)"
   ]
  }
 ],
 "metadata": {
  "kernelspec": {
   "display_name": "Python 3",
   "language": "python",
   "name": "python3"
  },
  "language_info": {
   "codemirror_mode": {
    "name": "ipython",
    "version": 3
   },
   "file_extension": ".py",
   "mimetype": "text/x-python",
   "name": "python",
   "nbconvert_exporter": "python",
   "pygments_lexer": "ipython3",
   "version": "3.6.2"
  }
 },
 "nbformat": 4,
 "nbformat_minor": 2
}
