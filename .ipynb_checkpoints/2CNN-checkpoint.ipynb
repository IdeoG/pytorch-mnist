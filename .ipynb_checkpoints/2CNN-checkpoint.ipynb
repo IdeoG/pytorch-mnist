{
 "cells": [
  {
   "cell_type": "code",
   "execution_count": 143,
   "metadata": {
    "collapsed": true
   },
   "outputs": [],
   "source": [
    "import torch\n",
    "import torch.nn as nn\n",
    "from torch.autograd import Variable\n",
    "from  torchvision import datasets\n",
    "from  torchvision import transforms\n",
    "from torch.utils.data import Dataset, DataLoader\n",
    "import torch.optim as optim\n",
    "from tqdm import *\n",
    "import pickle\n",
    "import matplotlib.pyplot as plt\n",
    "import numpy as np\n",
    "import pandas as pd"
   ]
  },
  {
   "cell_type": "code",
   "execution_count": 144,
   "metadata": {},
   "outputs": [],
   "source": [
    "train_data = pd.read_csv('./data/train.csv')\n",
    "test_data = pd.read_csv('./data/test.csv')"
   ]
  },
  {
   "cell_type": "code",
   "execution_count": 145,
   "metadata": {
    "collapsed": true
   },
   "outputs": [],
   "source": [
    "train_y = train_data.values[:,0]\n",
    "train_x = train_data.values[:,1:].astype(np.float32)\n",
    "test_x = test_data.values.astype(np.float32)"
   ]
  },
  {
   "cell_type": "code",
   "execution_count": 146,
   "metadata": {
    "collapsed": true
   },
   "outputs": [],
   "source": [
    "train_x = train_x.reshape([-1, 28, 28, 1]).transpose((0,3,1,2))\n",
    "test_x = test_x.reshape([-1, 28, 28, 1]).transpose((0,3,1,2))"
   ]
  },
  {
   "cell_type": "code",
   "execution_count": 147,
   "metadata": {},
   "outputs": [
    {
     "data": {
      "text/plain": [
       "(33.408936, 78.677589)"
      ]
     },
     "execution_count": 147,
     "metadata": {},
     "output_type": "execute_result"
    }
   ],
   "source": [
    "train_x.mean(), train_x.std()"
   ]
  },
  {
   "cell_type": "code",
   "execution_count": 148,
   "metadata": {},
   "outputs": [],
   "source": [
    "train_transform = transforms.Compose([\n",
    "                transforms.ToPILImage(),\n",
    "                transforms.RandomHorizontalFlip(),\n",
    "                transforms.RandomCrop(28),\n",
    "                transforms.ToTensor(),\n",
    "                transforms.Normalize((0.1310,), (0.3085,))\n",
    "            ])\n",
    "\n",
    "test_transform = transforms.Compose([\n",
    "                transforms.ToPILImage(),\n",
    "                transforms.ToTensor(),\n",
    "                transforms.Normalize((0.1310,), (0.3085,))\n",
    "            ])"
   ]
  },
  {
   "cell_type": "code",
   "execution_count": 150,
   "metadata": {},
   "outputs": [
    {
     "data": {
      "image/png": "[encoded data removed]",
      "text/plain": [
       "<matplotlib.figure.Figure at 0x7ff2655935c0>"
      ]
     },
     "metadata": {},
     "output_type": "display_data"
    },
    {
     "data": {
      "text/plain": [
       "5"
      ]
     },
     "execution_count": 150,
     "metadata": {},
     "output_type": "execute_result"
    }
   ],
   "source": [
    "i = 243\n",
    "example_im = train_x[i,0,:,:]\n",
    "a = train_transform(torch.from_numpy(train_x[i]))\n",
    "# plt.imshow(example_im)\n",
    "plt.imshow(a.numpy()[0,:,:])\n",
    "plt.show()\n",
    "train_y[i]"
   ]
  },
  {
   "cell_type": "code",
   "execution_count": 170,
   "metadata": {},
   "outputs": [],
   "source": [
    "class MnistDataset(Dataset):\n",
    "    \n",
    "    def __init__(self, x, y=None, transform=None):\n",
    "        self.data = x\n",
    "        self.labels = y\n",
    "        self.transform = transform\n",
    "        \n",
    "    def __len__(self):\n",
    "        return self.data.shape[0]\n",
    "    \n",
    "    def __getitem__(self, idx):\n",
    "        data = self.data[idx]\n",
    "        if self.transform is not None:\n",
    "            data = torch.from_numpy(train_x[i])\n",
    "            data = self.transform(data).numpy()\n",
    "        if self.labels is not None:\n",
    "            label = self.labels[idx]\n",
    "            return data, label\n",
    "        else:\n",
    "            return data"
   ]
  },
  {
   "cell_type": "code",
   "execution_count": 171,
   "metadata": {},
   "outputs": [],
   "source": [
    "# train_dataset = MnistDataset(train_x, train_y, transform=train_transform)\n",
    "train_dataset = MnistDataset(train_x, train_y)\n",
    "test_dataset = MnistDataset(test_x)\n",
    "\n",
    "trainloader = DataLoader(train_dataset, batch_size=1000, shuffle=True)\n",
    "testloader = DataLoader(test_dataset, batch_size=1000, shuffle=False)"
   ]
  },
  {
   "cell_type": "code",
   "execution_count": 158,
   "metadata": {
    "collapsed": true
   },
   "outputs": [],
   "source": [
    "class Net(nn.Module):  \n",
    "    def __init__(self):\n",
    "        super(Net, self).__init__()\n",
    "        \n",
    "        self.feature_map_size = 7 * 7 * 100\n",
    "        \n",
    "        self.c1_layer = nn.Sequential( \\\n",
    "                                        nn.BatchNorm2d(1),\n",
    "                                        nn.Conv2d(1,32,3,padding=1),\n",
    "                                        nn.ReLU(),\n",
    "                                        nn.Conv2d(32,32,3,padding=1),\n",
    "                                        nn.MaxPool2d(2,stride=2),\n",
    "                                        nn.ReLU(),\n",
    "                                        nn.Dropout2d(0.25)\n",
    "                                       )\n",
    "        self.c2_layer = nn.Sequential( \\\n",
    "                                        nn.Conv2d(32,100,3,padding=1),\n",
    "                                        nn.ReLU(),\n",
    "                                        nn.Conv2d(100,100,3,padding=1),\n",
    "                                        nn.ReLU(),\n",
    "                                        nn.Conv2d(100,100,3,padding=1),\n",
    "                                        nn.MaxPool2d(2,stride=2),\n",
    "                                        nn.ReLU(),\n",
    "                                        nn.Dropout2d(0.25)\n",
    "                                       )\n",
    "        self.fc_layer = nn.Sequential( \\\n",
    "                                        nn.Linear(self.feature_map_size, 1024),\n",
    "                                        nn.ReLU(),\n",
    "                                        nn.Dropout2d(),\n",
    "                                        nn.Linear(1024,10)\n",
    "                                        )\n",
    "\n",
    "    def forward(self, x): \n",
    "        x = self.c1_layer(x)\n",
    "        x = self.c2_layer(x)\n",
    "        x = x.view(-1, self.feature_map_size) \n",
    "        x = self.fc_layer(x)\n",
    "        return x"
   ]
  },
  {
   "cell_type": "code",
   "execution_count": 159,
   "metadata": {
    "collapsed": true
   },
   "outputs": [],
   "source": [
    "'''Combination of augmented data and raw data'''\n",
    "def run(s_epoch,n_epoch,lr):\n",
    "    net.train(True)\n",
    "    optimizer = optim.Adam(net.parameters(), lr=lr)\n",
    "#     for epoch in tqdm(range(s_epoch,n_epoch)):  \n",
    "    for epoch in range(s_epoch,n_epoch):\n",
    "        running_corrects= 0\n",
    "        running_loss = 0.0\n",
    "        for i, data in enumerate(trainloader, 0):\n",
    "            inputs, labels = data\n",
    "            inputs, labels = Variable(inputs.cuda()), Variable(labels.cuda())\n",
    "            optimizer.zero_grad()\n",
    "            outputs = net(inputs)\n",
    "            loss = criterion(outputs, labels)\n",
    "            loss.backward()\n",
    "            optimizer.step()\n",
    "\n",
    "            running_loss += loss.data[0]\n",
    "\n",
    "            _, preds = torch.max(outputs.data, 1)\n",
    "            running_corrects += torch.sum(preds == labels.data)\n",
    "            \n",
    "        loss_data.append(running_loss)\n",
    "        corrects.append(running_corrects/len(trainloader.dataset))\n",
    "        print (\"Epoch %s, train accuracy %s and loss %s\" %(epoch+1,running_corrects/len(trainloader.dataset),running_loss))\n",
    "    print ('Finished Training')"
   ]
  },
  {
   "cell_type": "code",
   "execution_count": 160,
   "metadata": {
    "collapsed": true
   },
   "outputs": [],
   "source": [
    "net = Net().cuda()\n",
    "criterion = nn.CrossEntropyLoss()\n",
    "\n",
    "loss_data = []\n",
    "corrects = []"
   ]
  },
  {
   "cell_type": "code",
   "execution_count": 161,
   "metadata": {},
   "outputs": [
    {
     "name": "stdout",
     "output_type": "stream",
     "text": [
      "Epoch 1, train accuracy 0.7436428571428572 and loss 34.507548063993454\n",
      "Epoch 2, train accuracy 0.9620952380952381 and loss 5.2822673842310905\n",
      "Epoch 3, train accuracy 0.9768095238095238 and loss 3.1918629221618176\n",
      "Epoch 4, train accuracy 0.982 and loss 2.50706547498703\n",
      "Epoch 5, train accuracy 0.9857619047619047 and loss 2.004696710035205\n",
      "Epoch 6, train accuracy 0.9872142857142857 and loss 1.7294164281338453\n",
      "Epoch 7, train accuracy 0.9890238095238095 and loss 1.4580287169665098\n",
      "Epoch 8, train accuracy 0.9908333333333333 and loss 1.2230781521648169\n",
      "Epoch 9, train accuracy 0.9917380952380952 and loss 1.0617412962019444\n",
      "Epoch 10, train accuracy 0.9921666666666666 and loss 1.040636290796101\n",
      "Epoch 11, train accuracy 0.9928809523809524 and loss 0.9363645501434803\n",
      "Epoch 12, train accuracy 0.9938333333333333 and loss 0.7871370352804661\n",
      "Epoch 13, train accuracy 0.9941666666666666 and loss 0.7370520024560392\n",
      "Epoch 14, train accuracy 0.9942619047619048 and loss 0.7499310784041882\n",
      "Epoch 15, train accuracy 0.9955952380952381 and loss 0.5653703883290291\n",
      "Finished Training\n"
     ]
    }
   ],
   "source": [
    "run(0,15,lr=0.001)"
   ]
  },
  {
   "cell_type": "code",
   "execution_count": null,
   "metadata": {
    "scrolled": true
   },
   "outputs": [],
   "source": [
    "run(10,80,0.001)"
   ]
  },
  {
   "cell_type": "code",
   "execution_count": null,
   "metadata": {},
   "outputs": [],
   "source": [
    "%%time\n",
    "run(80,120,0.0001)"
   ]
  },
  {
   "cell_type": "code",
   "execution_count": null,
   "metadata": {},
   "outputs": [],
   "source": [
    "%%time\n",
    "run(120,160,0.0005)"
   ]
  },
  {
   "cell_type": "code",
   "execution_count": 162,
   "metadata": {},
   "outputs": [
    {
     "data": {
      "image/png": "[encoded data removed]",
      "text/plain": [
       "<matplotlib.figure.Figure at 0x7ff2656801d0>"
      ]
     },
     "metadata": {},
     "output_type": "display_data"
    }
   ],
   "source": [
    "plt.plot(loss_data[-30:])\n",
    "plt.grid()\n",
    "plt.show()"
   ]
  },
  {
   "cell_type": "code",
   "execution_count": 163,
   "metadata": {
    "collapsed": true
   },
   "outputs": [],
   "source": [
    "y_hat = []"
   ]
  },
  {
   "cell_type": "code",
   "execution_count": 172,
   "metadata": {},
   "outputs": [],
   "source": [
    "net.train(False)\n",
    "running_corrects=0\n",
    "running_loss=0\n",
    "for i, data in enumerate(testloader, 0):\n",
    "    inputs= data\n",
    "    inputs= Variable(inputs.cuda(), volatile=True)\n",
    "    outputs = net(inputs)\n",
    "    y_hat.append(outputs.cpu().data.numpy())"
   ]
  },
  {
   "cell_type": "code",
   "execution_count": 179,
   "metadata": {},
   "outputs": [
    {
     "name": "stdout",
     "output_type": "stream",
     "text": [
      "(28000, 1, 28, 28) (28, 1000, 10)\n"
     ]
    }
   ],
   "source": [
    "print(testloader.dataset.data.shape, np.array(y_hat).shape)\n",
    "real = []\n",
    "expect = []"
   ]
  },
  {
   "cell_type": "code",
   "execution_count": 194,
   "metadata": {},
   "outputs": [],
   "source": [
    "import pandas as pd\n",
    "c = 0\n",
    "df = pd.DataFrame(columns=['ImageId', 'Label'])\n",
    "for i in range(len(y_hat)):\n",
    "    l = len(y_hat[0])\n",
    "    for j in range(l):\n",
    "        real.append(np.argmax(y_hat[i][j]))\n",
    "        expect.append(j + i*l)"
   ]
  },
  {
   "cell_type": "code",
   "execution_count": 196,
   "metadata": {},
   "outputs": [
    {
     "data": {
      "text/html": [
       "<div>\n",
       "<style>\n",
       "    .dataframe thead tr:only-child th {\n",
       "        text-align: right;\n",
       "    }\n",
       "\n",
       "    .dataframe thead th {\n",
       "        text-align: left;\n",
       "    }\n",
       "\n",
       "    .dataframe tbody tr th {\n",
       "        vertical-align: top;\n",
       "    }\n",
       "</style>\n",
       "<table border=\"1\" class=\"dataframe\">\n",
       "  <thead>\n",
       "    <tr style=\"text-align: right;\">\n",
       "      <th></th>\n",
       "      <th>ImageId</th>\n",
       "      <th>Label</th>\n",
       "    </tr>\n",
       "  </thead>\n",
       "  <tbody>\n",
       "    <tr>\n",
       "      <th>0</th>\n",
       "      <td>0</td>\n",
       "      <td>2</td>\n",
       "    </tr>\n",
       "    <tr>\n",
       "      <th>1</th>\n",
       "      <td>1</td>\n",
       "      <td>0</td>\n",
       "    </tr>\n",
       "    <tr>\n",
       "      <th>2</th>\n",
       "      <td>2</td>\n",
       "      <td>9</td>\n",
       "    </tr>\n",
       "    <tr>\n",
       "      <th>3</th>\n",
       "      <td>3</td>\n",
       "      <td>0</td>\n",
       "    </tr>\n",
       "    <tr>\n",
       "      <th>4</th>\n",
       "      <td>4</td>\n",
       "      <td>3</td>\n",
       "    </tr>\n",
       "  </tbody>\n",
       "</table>\n",
       "</div>"
      ],
      "text/plain": [
       "   ImageId  Label\n",
       "0        0      2\n",
       "1        1      0\n",
       "2        2      9\n",
       "3        3      0\n",
       "4        4      3"
      ]
     },
     "execution_count": 196,
     "metadata": {},
     "output_type": "execute_result"
    }
   ],
   "source": [
    "df = pd.DataFrame(columns=['ImageId', 'Label'])\n",
    "df['ImageId'] = expect\n",
    "df['Label'] = real\n",
    "df.head()"
   ]
  },
  {
   "cell_type": "code",
   "execution_count": 191,
   "metadata": {},
   "outputs": [
    {
     "name": "stdout",
     "output_type": "stream",
     "text": [
      "2CNN.ipynb\n",
      "2cnn.pkl\n",
      "data\n"
     ]
    }
   ],
   "source": [
    "%%bash\n",
    "ls"
   ]
  },
  {
   "cell_type": "code",
   "execution_count": 192,
   "metadata": {},
   "outputs": [],
   "source": [
    "df.to_csv('./ground1.csv', index=False)"
   ]
  },
  {
   "cell_type": "code",
   "execution_count": null,
   "metadata": {
    "collapsed": true
   },
   "outputs": [],
   "source": [
    "net_parametrs = net.state_dict()\n",
    "with open('./2cnn.pkl','wb') as f:\n",
    "    pickle.dump(net_parametrs,f)"
   ]
  },
  {
   "cell_type": "code",
   "execution_count": null,
   "metadata": {
    "collapsed": true
   },
   "outputs": [],
   "source": [
    "with open('./2cnn.pkl','rb') as f:\n",
    "    result_nets = pickle.load(f)\n",
    "net.load_state_dict(result_nets)"
   ]
  }
 ],
 "metadata": {
  "kernelspec": {
   "display_name": "Python 3",
   "language": "python",
   "name": "python3"
  },
  "language_info": {
   "codemirror_mode": {
    "name": "ipython",
    "version": 3
   },
   "file_extension": ".py",
   "mimetype": "text/x-python",
   "name": "python",
   "nbconvert_exporter": "python",
   "pygments_lexer": "ipython3",
   "version": "3.6.2"
  }
 },
 "nbformat": 4,
 "nbformat_minor": 2
}
